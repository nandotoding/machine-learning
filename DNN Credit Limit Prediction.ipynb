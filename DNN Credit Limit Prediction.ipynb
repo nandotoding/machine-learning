{
  "nbformat": 4,
  "nbformat_minor": 0,
  "metadata": {
    "colab": {
      "name": "Fernando Toding Bua_VIX_ID/X Partners.ipynb",
      "provenance": [],
      "collapsed_sections": []
    },
    "kernelspec": {
      "name": "python3",
      "display_name": "Python 3"
    },
    "language_info": {
      "name": "python"
    },
    "accelerator": "GPU",
    "gpuClass": "standard"
  },
  "cells": [
    {
      "cell_type": "markdown",
      "source": [
        "# Prediksi Nilai Limit Kredit Revolving\n",
        "menggunakan Deep Neural Network Regression\n",
        "\n",
        "<br>Response Variable: **total_rev_hi_lim**"
      ],
      "metadata": {
        "id": "mFPAZvbjIttN"
      }
    },
    {
      "cell_type": "code",
      "execution_count": 1,
      "metadata": {
        "id": "ZFx_UuY9MlKH"
      },
      "outputs": [],
      "source": [
        "import pandas as pd\n",
        "import tensorflow as tf\n",
        "from sklearn.preprocessing import StandardScaler\n",
        "from sklearn.model_selection import train_test_split"
      ]
    },
    {
      "cell_type": "markdown",
      "source": [
        "# Data Cleaning"
      ],
      "metadata": {
        "id": "K67J8unDHWFy"
      }
    },
    {
      "cell_type": "code",
      "source": [
        "df = pd.read_csv(r'/content/drive/MyDrive/Datasets/loan_data_2007_2014.csv')\n",
        "df.info()"
      ],
      "metadata": {
        "id": "rPEH8D8LPOJ6",
        "colab": {
          "base_uri": "https://localhost:8080/"
        },
        "outputId": "1b2a29a3-9966-4e4b-adb1-3b51b60845b3"
      },
      "execution_count": 2,
      "outputs": [
        {
          "output_type": "stream",
          "name": "stderr",
          "text": [
            "/usr/local/lib/python3.7/dist-packages/IPython/core/interactiveshell.py:3326: DtypeWarning: Columns (20) have mixed types.Specify dtype option on import or set low_memory=False.\n",
            "  exec(code_obj, self.user_global_ns, self.user_ns)\n"
          ]
        },
        {
          "output_type": "stream",
          "name": "stdout",
          "text": [
            "<class 'pandas.core.frame.DataFrame'>\n",
            "RangeIndex: 466285 entries, 0 to 466284\n",
            "Data columns (total 75 columns):\n",
            " #   Column                       Non-Null Count   Dtype  \n",
            "---  ------                       --------------   -----  \n",
            " 0   Unnamed: 0                   466285 non-null  int64  \n",
            " 1   id                           466285 non-null  int64  \n",
            " 2   member_id                    466285 non-null  int64  \n",
            " 3   loan_amnt                    466285 non-null  int64  \n",
            " 4   funded_amnt                  466285 non-null  int64  \n",
            " 5   funded_amnt_inv              466285 non-null  float64\n",
            " 6   term                         466285 non-null  object \n",
            " 7   int_rate                     466285 non-null  float64\n",
            " 8   installment                  466285 non-null  float64\n",
            " 9   grade                        466285 non-null  object \n",
            " 10  sub_grade                    466285 non-null  object \n",
            " 11  emp_title                    438697 non-null  object \n",
            " 12  emp_length                   445277 non-null  object \n",
            " 13  home_ownership               466285 non-null  object \n",
            " 14  annual_inc                   466281 non-null  float64\n",
            " 15  verification_status          466285 non-null  object \n",
            " 16  issue_d                      466285 non-null  object \n",
            " 17  loan_status                  466285 non-null  object \n",
            " 18  pymnt_plan                   466285 non-null  object \n",
            " 19  url                          466285 non-null  object \n",
            " 20  desc                         125983 non-null  object \n",
            " 21  purpose                      466285 non-null  object \n",
            " 22  title                        466265 non-null  object \n",
            " 23  zip_code                     466285 non-null  object \n",
            " 24  addr_state                   466285 non-null  object \n",
            " 25  dti                          466285 non-null  float64\n",
            " 26  delinq_2yrs                  466256 non-null  float64\n",
            " 27  earliest_cr_line             466256 non-null  object \n",
            " 28  inq_last_6mths               466256 non-null  float64\n",
            " 29  mths_since_last_delinq       215934 non-null  float64\n",
            " 30  mths_since_last_record       62638 non-null   float64\n",
            " 31  open_acc                     466256 non-null  float64\n",
            " 32  pub_rec                      466256 non-null  float64\n",
            " 33  revol_bal                    466285 non-null  int64  \n",
            " 34  revol_util                   465945 non-null  float64\n",
            " 35  total_acc                    466256 non-null  float64\n",
            " 36  initial_list_status          466285 non-null  object \n",
            " 37  out_prncp                    466285 non-null  float64\n",
            " 38  out_prncp_inv                466285 non-null  float64\n",
            " 39  total_pymnt                  466285 non-null  float64\n",
            " 40  total_pymnt_inv              466285 non-null  float64\n",
            " 41  total_rec_prncp              466285 non-null  float64\n",
            " 42  total_rec_int                466285 non-null  float64\n",
            " 43  total_rec_late_fee           466285 non-null  float64\n",
            " 44  recoveries                   466285 non-null  float64\n",
            " 45  collection_recovery_fee      466285 non-null  float64\n",
            " 46  last_pymnt_d                 465909 non-null  object \n",
            " 47  last_pymnt_amnt              466285 non-null  float64\n",
            " 48  next_pymnt_d                 239071 non-null  object \n",
            " 49  last_credit_pull_d           466243 non-null  object \n",
            " 50  collections_12_mths_ex_med   466140 non-null  float64\n",
            " 51  mths_since_last_major_derog  98974 non-null   float64\n",
            " 52  policy_code                  466285 non-null  int64  \n",
            " 53  application_type             466285 non-null  object \n",
            " 54  annual_inc_joint             0 non-null       float64\n",
            " 55  dti_joint                    0 non-null       float64\n",
            " 56  verification_status_joint    0 non-null       float64\n",
            " 57  acc_now_delinq               466256 non-null  float64\n",
            " 58  tot_coll_amt                 396009 non-null  float64\n",
            " 59  tot_cur_bal                  396009 non-null  float64\n",
            " 60  open_acc_6m                  0 non-null       float64\n",
            " 61  open_il_6m                   0 non-null       float64\n",
            " 62  open_il_12m                  0 non-null       float64\n",
            " 63  open_il_24m                  0 non-null       float64\n",
            " 64  mths_since_rcnt_il           0 non-null       float64\n",
            " 65  total_bal_il                 0 non-null       float64\n",
            " 66  il_util                      0 non-null       float64\n",
            " 67  open_rv_12m                  0 non-null       float64\n",
            " 68  open_rv_24m                  0 non-null       float64\n",
            " 69  max_bal_bc                   0 non-null       float64\n",
            " 70  all_util                     0 non-null       float64\n",
            " 71  total_rev_hi_lim             396009 non-null  float64\n",
            " 72  inq_fi                       0 non-null       float64\n",
            " 73  total_cu_tl                  0 non-null       float64\n",
            " 74  inq_last_12m                 0 non-null       float64\n",
            "dtypes: float64(46), int64(7), object(22)\n",
            "memory usage: 266.8+ MB\n"
          ]
        }
      ]
    },
    {
      "cell_type": "code",
      "source": [
        "df.dropna(how='all', axis=0, inplace=True)\n",
        "df.dropna(how='all', axis=1, inplace=True)\n",
        "df.dropna(subset=['total_rev_hi_lim'], inplace=True)"
      ],
      "metadata": {
        "id": "-fognM4Vtw0q"
      },
      "execution_count": 3,
      "outputs": []
    },
    {
      "cell_type": "code",
      "source": [
        "unnec_cols = ['Unnamed: 0', 'id', 'member_id']\n",
        "\n",
        "for i in df.columns:\n",
        "    if i in unnec_cols:\n",
        "        df.drop(columns=[i], inplace=True)\n",
        "    else:\n",
        "        continue"
      ],
      "metadata": {
        "id": "9IvBBZCWuCYL"
      },
      "execution_count": 4,
      "outputs": []
    },
    {
      "cell_type": "code",
      "source": [
        "print('COL_NAME -------- NUM_OF_UNIQUE_VALUES\\n')\n",
        "\n",
        "for i in df.columns:\n",
        "    if df[i].dtype == 'object':\n",
        "        print('{} -------- {}'.format(i, df[i].unique().size))\n",
        "    else:\n",
        "        continue"
      ],
      "metadata": {
        "colab": {
          "base_uri": "https://localhost:8080/"
        },
        "id": "-klcWmdSuGAv",
        "outputId": "b3db681e-8b82-4893-8138-b5149b7fac15"
      },
      "execution_count": 5,
      "outputs": [
        {
          "output_type": "stream",
          "name": "stdout",
          "text": [
            "COL_NAME -------- NUM_OF_UNIQUE_VALUES\n",
            "\n",
            "term -------- 2\n",
            "grade -------- 7\n",
            "sub_grade -------- 35\n",
            "emp_title -------- 166290\n",
            "emp_length -------- 12\n",
            "home_ownership -------- 6\n",
            "verification_status -------- 3\n",
            "issue_d -------- 29\n",
            "loan_status -------- 7\n",
            "pymnt_plan -------- 2\n",
            "url -------- 396009\n",
            "desc -------- 78409\n",
            "purpose -------- 13\n",
            "title -------- 39054\n",
            "zip_code -------- 874\n",
            "addr_state -------- 50\n",
            "earliest_cr_line -------- 658\n",
            "initial_list_status -------- 2\n",
            "last_pymnt_d -------- 42\n",
            "next_pymnt_d -------- 4\n",
            "last_credit_pull_d -------- 43\n",
            "application_type -------- 1\n"
          ]
        }
      ]
    },
    {
      "cell_type": "code",
      "source": [
        "print('COL_NAME -------- NUM_OF_UNIQUE_VALUES\\n')\n",
        "\n",
        "for i in df.columns:\n",
        "    if df[i].dtype == 'object':\n",
        "        print('{} -------- {}'.format(i, df[i].unique().size))\n",
        "    else:\n",
        "        continue"
      ],
      "metadata": {
        "colab": {
          "base_uri": "https://localhost:8080/"
        },
        "id": "JNIj0exwuJPp",
        "outputId": "a9bd49c0-2b39-4b1c-f583-3a9aa9aa72ad"
      },
      "execution_count": 6,
      "outputs": [
        {
          "output_type": "stream",
          "name": "stdout",
          "text": [
            "COL_NAME -------- NUM_OF_UNIQUE_VALUES\n",
            "\n",
            "term -------- 2\n",
            "grade -------- 7\n",
            "sub_grade -------- 35\n",
            "emp_title -------- 166290\n",
            "emp_length -------- 12\n",
            "home_ownership -------- 6\n",
            "verification_status -------- 3\n",
            "issue_d -------- 29\n",
            "loan_status -------- 7\n",
            "pymnt_plan -------- 2\n",
            "url -------- 396009\n",
            "desc -------- 78409\n",
            "purpose -------- 13\n",
            "title -------- 39054\n",
            "zip_code -------- 874\n",
            "addr_state -------- 50\n",
            "earliest_cr_line -------- 658\n",
            "initial_list_status -------- 2\n",
            "last_pymnt_d -------- 42\n",
            "next_pymnt_d -------- 4\n",
            "last_credit_pull_d -------- 43\n",
            "application_type -------- 1\n"
          ]
        }
      ]
    },
    {
      "cell_type": "code",
      "source": [
        "unnec_cols_2 = ['emp_title', 'url', 'desc', 'title', 'zip_code', 'earliest_cr_line', \n",
        "                'last_pymnt_d', 'next_pymnt_d', 'last_credit_pull_d', 'application_type']\n",
        "\n",
        "for i in df.columns:\n",
        "    if i in unnec_cols_2:\n",
        "        df.drop(columns=[i], inplace=True)\n",
        "    else:\n",
        "        continue"
      ],
      "metadata": {
        "id": "piBtwSPhu5WM"
      },
      "execution_count": 7,
      "outputs": []
    },
    {
      "cell_type": "code",
      "source": [
        "fill_with_zero = ['delinq_2yrs', 'inq_last_6mths', 'mths_since_last_delinq', 'mths_since_last_record', 'open_acc', \n",
        "                  'pub_rec', 'total_acc', 'mths_since_last_major_derog', 'acc_now_delinq', 'tot_coll_amt', 'tot_cur_bal']\n",
        "fill_with_mean = ['annual_inc', 'revol_util', 'collections_12_mths_ex_med']\n",
        "\n",
        "for i in df.columns:\n",
        "    if i in fill_with_zero:\n",
        "        df[i].fillna(value=0, inplace=True)\n",
        "    elif i in fill_with_mean:\n",
        "        df[i].fillna(value=df[i].mean(), inplace=True)\n",
        "    else:\n",
        "        continue"
      ],
      "metadata": {
        "id": "XB-eu0RDuTZP"
      },
      "execution_count": 8,
      "outputs": []
    },
    {
      "cell_type": "code",
      "source": [
        "for i in df.columns:\n",
        "    if df[i].dtype == 'object':\n",
        "        df[i].fillna(value=df[i].mode(), inplace=True)\n",
        "    else:\n",
        "        continue"
      ],
      "metadata": {
        "id": "duGFwxV-ub4n"
      },
      "execution_count": 9,
      "outputs": []
    },
    {
      "cell_type": "code",
      "source": [
        "df.isna().sum()"
      ],
      "metadata": {
        "colab": {
          "base_uri": "https://localhost:8080/"
        },
        "id": "w21QJSn3ud4u",
        "outputId": "5ab14afe-dbb0-4942-a438-0b22166cfc51"
      },
      "execution_count": 10,
      "outputs": [
        {
          "output_type": "execute_result",
          "data": {
            "text/plain": [
              "loan_amnt                          0\n",
              "funded_amnt                        0\n",
              "funded_amnt_inv                    0\n",
              "term                               0\n",
              "int_rate                           0\n",
              "installment                        0\n",
              "grade                              0\n",
              "sub_grade                          0\n",
              "emp_length                     18947\n",
              "home_ownership                     0\n",
              "annual_inc                         0\n",
              "verification_status                0\n",
              "issue_d                            0\n",
              "loan_status                        0\n",
              "pymnt_plan                         0\n",
              "purpose                            0\n",
              "addr_state                         0\n",
              "dti                                0\n",
              "delinq_2yrs                        0\n",
              "inq_last_6mths                     0\n",
              "mths_since_last_delinq             0\n",
              "mths_since_last_record             0\n",
              "open_acc                           0\n",
              "pub_rec                            0\n",
              "revol_bal                          0\n",
              "revol_util                         0\n",
              "total_acc                          0\n",
              "initial_list_status                0\n",
              "out_prncp                          0\n",
              "out_prncp_inv                      0\n",
              "total_pymnt                        0\n",
              "total_pymnt_inv                    0\n",
              "total_rec_prncp                    0\n",
              "total_rec_int                      0\n",
              "total_rec_late_fee                 0\n",
              "recoveries                         0\n",
              "collection_recovery_fee            0\n",
              "last_pymnt_amnt                    0\n",
              "collections_12_mths_ex_med         0\n",
              "mths_since_last_major_derog        0\n",
              "policy_code                        0\n",
              "acc_now_delinq                     0\n",
              "tot_coll_amt                       0\n",
              "tot_cur_bal                        0\n",
              "total_rev_hi_lim                   0\n",
              "dtype: int64"
            ]
          },
          "metadata": {},
          "execution_count": 10
        }
      ]
    },
    {
      "cell_type": "code",
      "source": [
        "df['emp_length'].unique()"
      ],
      "metadata": {
        "colab": {
          "base_uri": "https://localhost:8080/"
        },
        "id": "gb_m2VOSumeo",
        "outputId": "d241a92e-4909-44f5-895a-93f09a31cc3d"
      },
      "execution_count": 11,
      "outputs": [
        {
          "output_type": "execute_result",
          "data": {
            "text/plain": [
              "array(['10+ years', '1 year', '2 years', '4 years', '3 years', '7 years',\n",
              "       '5 years', '6 years', '9 years', '8 years', '< 1 year', nan],\n",
              "      dtype=object)"
            ]
          },
          "metadata": {},
          "execution_count": 11
        }
      ]
    },
    {
      "cell_type": "code",
      "source": [
        "str_data = ['10+ years', '1 year', '2 years', '4 years', '3 years', '7 years', \n",
        "            '5 years', '6 years', '9 years', '8 years', '< 1 year']\n",
        "\n",
        "for i in df['emp_length']:\n",
        "    if i in str_data:\n",
        "        if i == '10+ years':\n",
        "            df['emp_length'].replace(i, float(i.strip('+ years')), inplace=True)\n",
        "        elif i == '1 year':\n",
        "            df['emp_length'].replace(i, float(i.strip(' year')), inplace=True)\n",
        "        elif i == '< 1 year':\n",
        "            df['emp_length'].replace(i, i.strip('< '), inplace=True)\n",
        "        else:\n",
        "            df['emp_length'].replace(i, float(i.strip(' years')), inplace=True)\n",
        "    else:\n",
        "        continue\n",
        "\n",
        "for i in df['emp_length']:\n",
        "    if i == '1 year':\n",
        "        df['emp_length'].replace(i, float(i.strip(' year')), inplace=True)\n",
        "    else:\n",
        "        continue\n",
        "\n",
        "df['emp_length'].head()"
      ],
      "metadata": {
        "colab": {
          "base_uri": "https://localhost:8080/"
        },
        "id": "tR1rNxRCvJLZ",
        "outputId": "8dba3b17-6c89-44e6-e83f-de08d4991ace"
      },
      "execution_count": 12,
      "outputs": [
        {
          "output_type": "execute_result",
          "data": {
            "text/plain": [
              "42535    10.0\n",
              "42536     1.0\n",
              "42537    10.0\n",
              "42538    10.0\n",
              "42539     2.0\n",
              "Name: emp_length, dtype: float64"
            ]
          },
          "metadata": {},
          "execution_count": 12
        }
      ]
    },
    {
      "cell_type": "code",
      "source": [
        "df['emp_length'].fillna(value=df['emp_length'].mean(), inplace=True)\n",
        "df.isna().sum()"
      ],
      "metadata": {
        "colab": {
          "base_uri": "https://localhost:8080/"
        },
        "id": "GT5IudcWv7Uk",
        "outputId": "88484b1f-6d23-4b98-bd6d-1f544cf1e985"
      },
      "execution_count": 13,
      "outputs": [
        {
          "output_type": "execute_result",
          "data": {
            "text/plain": [
              "loan_amnt                      0\n",
              "funded_amnt                    0\n",
              "funded_amnt_inv                0\n",
              "term                           0\n",
              "int_rate                       0\n",
              "installment                    0\n",
              "grade                          0\n",
              "sub_grade                      0\n",
              "emp_length                     0\n",
              "home_ownership                 0\n",
              "annual_inc                     0\n",
              "verification_status            0\n",
              "issue_d                        0\n",
              "loan_status                    0\n",
              "pymnt_plan                     0\n",
              "purpose                        0\n",
              "addr_state                     0\n",
              "dti                            0\n",
              "delinq_2yrs                    0\n",
              "inq_last_6mths                 0\n",
              "mths_since_last_delinq         0\n",
              "mths_since_last_record         0\n",
              "open_acc                       0\n",
              "pub_rec                        0\n",
              "revol_bal                      0\n",
              "revol_util                     0\n",
              "total_acc                      0\n",
              "initial_list_status            0\n",
              "out_prncp                      0\n",
              "out_prncp_inv                  0\n",
              "total_pymnt                    0\n",
              "total_pymnt_inv                0\n",
              "total_rec_prncp                0\n",
              "total_rec_int                  0\n",
              "total_rec_late_fee             0\n",
              "recoveries                     0\n",
              "collection_recovery_fee        0\n",
              "last_pymnt_amnt                0\n",
              "collections_12_mths_ex_med     0\n",
              "mths_since_last_major_derog    0\n",
              "policy_code                    0\n",
              "acc_now_delinq                 0\n",
              "tot_coll_amt                   0\n",
              "tot_cur_bal                    0\n",
              "total_rev_hi_lim               0\n",
              "dtype: int64"
            ]
          },
          "metadata": {},
          "execution_count": 13
        }
      ]
    },
    {
      "cell_type": "code",
      "source": [
        "for i in df.columns:\n",
        "    if df[i].dtype == 'object':\n",
        "        print('{} ------- {}'.format(i, len(df[i].unique())))\n",
        "    else:\n",
        "        continue"
      ],
      "metadata": {
        "colab": {
          "base_uri": "https://localhost:8080/"
        },
        "id": "TbkEp9QEwCwM",
        "outputId": "5913e183-3529-4619-d20a-d58b4813d7c6"
      },
      "execution_count": 14,
      "outputs": [
        {
          "output_type": "stream",
          "name": "stdout",
          "text": [
            "term ------- 2\n",
            "grade ------- 7\n",
            "sub_grade ------- 35\n",
            "home_ownership ------- 6\n",
            "verification_status ------- 3\n",
            "issue_d ------- 29\n",
            "loan_status ------- 7\n",
            "pymnt_plan ------- 2\n",
            "purpose ------- 13\n",
            "addr_state ------- 50\n",
            "initial_list_status ------- 2\n"
          ]
        }
      ]
    },
    {
      "cell_type": "code",
      "source": [
        "unnec_cols_3 = ['sub_grade', 'issue_d', 'addr_state']\n",
        "df.drop(columns=unnec_cols_3, inplace=True)\n",
        "\n",
        "for i in df.columns:\n",
        "    if df[i].dtype == 'object':\n",
        "        print('{} ------- {}'.format(i, len(df[i].unique())))\n",
        "    else:\n",
        "        continue"
      ],
      "metadata": {
        "colab": {
          "base_uri": "https://localhost:8080/"
        },
        "id": "oQxv9UGPwGLP",
        "outputId": "1e084ddc-f3b0-4fb0-cf22-ac785a59c347"
      },
      "execution_count": 15,
      "outputs": [
        {
          "output_type": "stream",
          "name": "stdout",
          "text": [
            "term ------- 2\n",
            "grade ------- 7\n",
            "home_ownership ------- 6\n",
            "verification_status ------- 3\n",
            "loan_status ------- 7\n",
            "pymnt_plan ------- 2\n",
            "purpose ------- 13\n",
            "initial_list_status ------- 2\n"
          ]
        }
      ]
    },
    {
      "cell_type": "code",
      "source": [
        "df1 = pd.get_dummies(df)\n",
        "df1.info()"
      ],
      "metadata": {
        "colab": {
          "base_uri": "https://localhost:8080/"
        },
        "id": "XAniC5OtwISk",
        "outputId": "12964d4b-40db-4107-cbc5-509f2cb77ed7"
      },
      "execution_count": 16,
      "outputs": [
        {
          "output_type": "stream",
          "name": "stdout",
          "text": [
            "<class 'pandas.core.frame.DataFrame'>\n",
            "Int64Index: 396009 entries, 42535 to 466284\n",
            "Data columns (total 76 columns):\n",
            " #   Column                               Non-Null Count   Dtype  \n",
            "---  ------                               --------------   -----  \n",
            " 0   loan_amnt                            396009 non-null  int64  \n",
            " 1   funded_amnt                          396009 non-null  int64  \n",
            " 2   funded_amnt_inv                      396009 non-null  float64\n",
            " 3   int_rate                             396009 non-null  float64\n",
            " 4   installment                          396009 non-null  float64\n",
            " 5   emp_length                           396009 non-null  float64\n",
            " 6   annual_inc                           396009 non-null  float64\n",
            " 7   dti                                  396009 non-null  float64\n",
            " 8   delinq_2yrs                          396009 non-null  float64\n",
            " 9   inq_last_6mths                       396009 non-null  float64\n",
            " 10  mths_since_last_delinq               396009 non-null  float64\n",
            " 11  mths_since_last_record               396009 non-null  float64\n",
            " 12  open_acc                             396009 non-null  float64\n",
            " 13  pub_rec                              396009 non-null  float64\n",
            " 14  revol_bal                            396009 non-null  int64  \n",
            " 15  revol_util                           396009 non-null  float64\n",
            " 16  total_acc                            396009 non-null  float64\n",
            " 17  out_prncp                            396009 non-null  float64\n",
            " 18  out_prncp_inv                        396009 non-null  float64\n",
            " 19  total_pymnt                          396009 non-null  float64\n",
            " 20  total_pymnt_inv                      396009 non-null  float64\n",
            " 21  total_rec_prncp                      396009 non-null  float64\n",
            " 22  total_rec_int                        396009 non-null  float64\n",
            " 23  total_rec_late_fee                   396009 non-null  float64\n",
            " 24  recoveries                           396009 non-null  float64\n",
            " 25  collection_recovery_fee              396009 non-null  float64\n",
            " 26  last_pymnt_amnt                      396009 non-null  float64\n",
            " 27  collections_12_mths_ex_med           396009 non-null  float64\n",
            " 28  mths_since_last_major_derog          396009 non-null  float64\n",
            " 29  policy_code                          396009 non-null  int64  \n",
            " 30  acc_now_delinq                       396009 non-null  float64\n",
            " 31  tot_coll_amt                         396009 non-null  float64\n",
            " 32  tot_cur_bal                          396009 non-null  float64\n",
            " 33  total_rev_hi_lim                     396009 non-null  float64\n",
            " 34  term_ 36 months                      396009 non-null  uint8  \n",
            " 35  term_ 60 months                      396009 non-null  uint8  \n",
            " 36  grade_A                              396009 non-null  uint8  \n",
            " 37  grade_B                              396009 non-null  uint8  \n",
            " 38  grade_C                              396009 non-null  uint8  \n",
            " 39  grade_D                              396009 non-null  uint8  \n",
            " 40  grade_E                              396009 non-null  uint8  \n",
            " 41  grade_F                              396009 non-null  uint8  \n",
            " 42  grade_G                              396009 non-null  uint8  \n",
            " 43  home_ownership_ANY                   396009 non-null  uint8  \n",
            " 44  home_ownership_MORTGAGE              396009 non-null  uint8  \n",
            " 45  home_ownership_NONE                  396009 non-null  uint8  \n",
            " 46  home_ownership_OTHER                 396009 non-null  uint8  \n",
            " 47  home_ownership_OWN                   396009 non-null  uint8  \n",
            " 48  home_ownership_RENT                  396009 non-null  uint8  \n",
            " 49  verification_status_Not Verified     396009 non-null  uint8  \n",
            " 50  verification_status_Source Verified  396009 non-null  uint8  \n",
            " 51  verification_status_Verified         396009 non-null  uint8  \n",
            " 52  loan_status_Charged Off              396009 non-null  uint8  \n",
            " 53  loan_status_Current                  396009 non-null  uint8  \n",
            " 54  loan_status_Default                  396009 non-null  uint8  \n",
            " 55  loan_status_Fully Paid               396009 non-null  uint8  \n",
            " 56  loan_status_In Grace Period          396009 non-null  uint8  \n",
            " 57  loan_status_Late (16-30 days)        396009 non-null  uint8  \n",
            " 58  loan_status_Late (31-120 days)       396009 non-null  uint8  \n",
            " 59  pymnt_plan_n                         396009 non-null  uint8  \n",
            " 60  pymnt_plan_y                         396009 non-null  uint8  \n",
            " 61  purpose_car                          396009 non-null  uint8  \n",
            " 62  purpose_credit_card                  396009 non-null  uint8  \n",
            " 63  purpose_debt_consolidation           396009 non-null  uint8  \n",
            " 64  purpose_home_improvement             396009 non-null  uint8  \n",
            " 65  purpose_house                        396009 non-null  uint8  \n",
            " 66  purpose_major_purchase               396009 non-null  uint8  \n",
            " 67  purpose_medical                      396009 non-null  uint8  \n",
            " 68  purpose_moving                       396009 non-null  uint8  \n",
            " 69  purpose_other                        396009 non-null  uint8  \n",
            " 70  purpose_renewable_energy             396009 non-null  uint8  \n",
            " 71  purpose_small_business               396009 non-null  uint8  \n",
            " 72  purpose_vacation                     396009 non-null  uint8  \n",
            " 73  purpose_wedding                      396009 non-null  uint8  \n",
            " 74  initial_list_status_f                396009 non-null  uint8  \n",
            " 75  initial_list_status_w                396009 non-null  uint8  \n",
            "dtypes: float64(30), int64(4), uint8(42)\n",
            "memory usage: 121.6 MB\n"
          ]
        }
      ]
    },
    {
      "cell_type": "code",
      "source": [
        "df_numerical = df1.copy()\n",
        "for i in df_numerical.columns:\n",
        "    if df_numerical[i].dtype == 'uint8':\n",
        "        df_numerical.drop(columns=[i], inplace=True)\n",
        "    else:\n",
        "        continue\n",
        "\n",
        "df_numerical.info()"
      ],
      "metadata": {
        "colab": {
          "base_uri": "https://localhost:8080/"
        },
        "id": "pc3c9-8SwKL-",
        "outputId": "ebe99770-2e82-4097-aaa9-6ebd6e383186"
      },
      "execution_count": 17,
      "outputs": [
        {
          "output_type": "stream",
          "name": "stdout",
          "text": [
            "<class 'pandas.core.frame.DataFrame'>\n",
            "Int64Index: 396009 entries, 42535 to 466284\n",
            "Data columns (total 34 columns):\n",
            " #   Column                       Non-Null Count   Dtype  \n",
            "---  ------                       --------------   -----  \n",
            " 0   loan_amnt                    396009 non-null  int64  \n",
            " 1   funded_amnt                  396009 non-null  int64  \n",
            " 2   funded_amnt_inv              396009 non-null  float64\n",
            " 3   int_rate                     396009 non-null  float64\n",
            " 4   installment                  396009 non-null  float64\n",
            " 5   emp_length                   396009 non-null  float64\n",
            " 6   annual_inc                   396009 non-null  float64\n",
            " 7   dti                          396009 non-null  float64\n",
            " 8   delinq_2yrs                  396009 non-null  float64\n",
            " 9   inq_last_6mths               396009 non-null  float64\n",
            " 10  mths_since_last_delinq       396009 non-null  float64\n",
            " 11  mths_since_last_record       396009 non-null  float64\n",
            " 12  open_acc                     396009 non-null  float64\n",
            " 13  pub_rec                      396009 non-null  float64\n",
            " 14  revol_bal                    396009 non-null  int64  \n",
            " 15  revol_util                   396009 non-null  float64\n",
            " 16  total_acc                    396009 non-null  float64\n",
            " 17  out_prncp                    396009 non-null  float64\n",
            " 18  out_prncp_inv                396009 non-null  float64\n",
            " 19  total_pymnt                  396009 non-null  float64\n",
            " 20  total_pymnt_inv              396009 non-null  float64\n",
            " 21  total_rec_prncp              396009 non-null  float64\n",
            " 22  total_rec_int                396009 non-null  float64\n",
            " 23  total_rec_late_fee           396009 non-null  float64\n",
            " 24  recoveries                   396009 non-null  float64\n",
            " 25  collection_recovery_fee      396009 non-null  float64\n",
            " 26  last_pymnt_amnt              396009 non-null  float64\n",
            " 27  collections_12_mths_ex_med   396009 non-null  float64\n",
            " 28  mths_since_last_major_derog  396009 non-null  float64\n",
            " 29  policy_code                  396009 non-null  int64  \n",
            " 30  acc_now_delinq               396009 non-null  float64\n",
            " 31  tot_coll_amt                 396009 non-null  float64\n",
            " 32  tot_cur_bal                  396009 non-null  float64\n",
            " 33  total_rev_hi_lim             396009 non-null  float64\n",
            "dtypes: float64(30), int64(4)\n",
            "memory usage: 105.7 MB\n"
          ]
        }
      ]
    },
    {
      "cell_type": "code",
      "source": [
        "df_numerical.corrwith(df['total_rev_hi_lim'], method='pearson')"
      ],
      "metadata": {
        "colab": {
          "base_uri": "https://localhost:8080/"
        },
        "id": "lUOTVErewPEz",
        "outputId": "17d6b1d9-eb76-4d72-8a76-71a32a04151d"
      },
      "execution_count": 18,
      "outputs": [
        {
          "output_type": "execute_result",
          "data": {
            "text/plain": [
              "loan_amnt                      0.290208\n",
              "funded_amnt                    0.290206\n",
              "funded_amnt_inv                0.290185\n",
              "int_rate                      -0.146838\n",
              "installment                    0.270074\n",
              "emp_length                     0.068021\n",
              "annual_inc                     0.291955\n",
              "dti                            0.060972\n",
              "delinq_2yrs                   -0.035028\n",
              "inq_last_6mths                 0.008383\n",
              "mths_since_last_delinq        -0.074946\n",
              "mths_since_last_record        -0.113598\n",
              "open_acc                       0.290747\n",
              "pub_rec                       -0.095906\n",
              "revol_bal                      0.809930\n",
              "revol_util                    -0.125419\n",
              "total_acc                      0.232194\n",
              "out_prncp                      0.149447\n",
              "out_prncp_inv                  0.149438\n",
              "total_pymnt                    0.211101\n",
              "total_pymnt_inv                0.211101\n",
              "total_rec_prncp                0.201842\n",
              "total_rec_int                  0.120626\n",
              "total_rec_late_fee            -0.003501\n",
              "recoveries                     0.006407\n",
              "collection_recovery_fee        0.007079\n",
              "last_pymnt_amnt                0.087543\n",
              "collections_12_mths_ex_med    -0.011618\n",
              "mths_since_last_major_derog   -0.107792\n",
              "policy_code                         NaN\n",
              "acc_now_delinq                 0.009244\n",
              "tot_coll_amt                  -0.003224\n",
              "tot_cur_bal                    0.356388\n",
              "total_rev_hi_lim               1.000000\n",
              "dtype: float64"
            ]
          },
          "metadata": {},
          "execution_count": 18
        }
      ]
    },
    {
      "cell_type": "code",
      "source": [
        "def col_corr(column):\n",
        "    return df_numerical.corrwith(df['total_rev_hi_lim'], method='pearson')[column]\n",
        "\n",
        "for i in df_numerical.columns:\n",
        "    if col_corr(i) < 0.05 and col_corr(i) > -0.05:\n",
        "        df1.drop(columns=[i], inplace=True)\n",
        "    else:\n",
        "        continue\n",
        "\n",
        "df1.drop(columns=['policy_code'], inplace=True)\n",
        "df1.info()"
      ],
      "metadata": {
        "colab": {
          "base_uri": "https://localhost:8080/"
        },
        "id": "vEc26HBdwT24",
        "outputId": "ff0df45f-21e3-4053-f22e-018d9f53b428"
      },
      "execution_count": 19,
      "outputs": [
        {
          "output_type": "stream",
          "name": "stdout",
          "text": [
            "<class 'pandas.core.frame.DataFrame'>\n",
            "Int64Index: 396009 entries, 42535 to 466284\n",
            "Data columns (total 67 columns):\n",
            " #   Column                               Non-Null Count   Dtype  \n",
            "---  ------                               --------------   -----  \n",
            " 0   loan_amnt                            396009 non-null  int64  \n",
            " 1   funded_amnt                          396009 non-null  int64  \n",
            " 2   funded_amnt_inv                      396009 non-null  float64\n",
            " 3   int_rate                             396009 non-null  float64\n",
            " 4   installment                          396009 non-null  float64\n",
            " 5   emp_length                           396009 non-null  float64\n",
            " 6   annual_inc                           396009 non-null  float64\n",
            " 7   dti                                  396009 non-null  float64\n",
            " 8   mths_since_last_delinq               396009 non-null  float64\n",
            " 9   mths_since_last_record               396009 non-null  float64\n",
            " 10  open_acc                             396009 non-null  float64\n",
            " 11  pub_rec                              396009 non-null  float64\n",
            " 12  revol_bal                            396009 non-null  int64  \n",
            " 13  revol_util                           396009 non-null  float64\n",
            " 14  total_acc                            396009 non-null  float64\n",
            " 15  out_prncp                            396009 non-null  float64\n",
            " 16  out_prncp_inv                        396009 non-null  float64\n",
            " 17  total_pymnt                          396009 non-null  float64\n",
            " 18  total_pymnt_inv                      396009 non-null  float64\n",
            " 19  total_rec_prncp                      396009 non-null  float64\n",
            " 20  total_rec_int                        396009 non-null  float64\n",
            " 21  last_pymnt_amnt                      396009 non-null  float64\n",
            " 22  mths_since_last_major_derog          396009 non-null  float64\n",
            " 23  tot_cur_bal                          396009 non-null  float64\n",
            " 24  total_rev_hi_lim                     396009 non-null  float64\n",
            " 25  term_ 36 months                      396009 non-null  uint8  \n",
            " 26  term_ 60 months                      396009 non-null  uint8  \n",
            " 27  grade_A                              396009 non-null  uint8  \n",
            " 28  grade_B                              396009 non-null  uint8  \n",
            " 29  grade_C                              396009 non-null  uint8  \n",
            " 30  grade_D                              396009 non-null  uint8  \n",
            " 31  grade_E                              396009 non-null  uint8  \n",
            " 32  grade_F                              396009 non-null  uint8  \n",
            " 33  grade_G                              396009 non-null  uint8  \n",
            " 34  home_ownership_ANY                   396009 non-null  uint8  \n",
            " 35  home_ownership_MORTGAGE              396009 non-null  uint8  \n",
            " 36  home_ownership_NONE                  396009 non-null  uint8  \n",
            " 37  home_ownership_OTHER                 396009 non-null  uint8  \n",
            " 38  home_ownership_OWN                   396009 non-null  uint8  \n",
            " 39  home_ownership_RENT                  396009 non-null  uint8  \n",
            " 40  verification_status_Not Verified     396009 non-null  uint8  \n",
            " 41  verification_status_Source Verified  396009 non-null  uint8  \n",
            " 42  verification_status_Verified         396009 non-null  uint8  \n",
            " 43  loan_status_Charged Off              396009 non-null  uint8  \n",
            " 44  loan_status_Current                  396009 non-null  uint8  \n",
            " 45  loan_status_Default                  396009 non-null  uint8  \n",
            " 46  loan_status_Fully Paid               396009 non-null  uint8  \n",
            " 47  loan_status_In Grace Period          396009 non-null  uint8  \n",
            " 48  loan_status_Late (16-30 days)        396009 non-null  uint8  \n",
            " 49  loan_status_Late (31-120 days)       396009 non-null  uint8  \n",
            " 50  pymnt_plan_n                         396009 non-null  uint8  \n",
            " 51  pymnt_plan_y                         396009 non-null  uint8  \n",
            " 52  purpose_car                          396009 non-null  uint8  \n",
            " 53  purpose_credit_card                  396009 non-null  uint8  \n",
            " 54  purpose_debt_consolidation           396009 non-null  uint8  \n",
            " 55  purpose_home_improvement             396009 non-null  uint8  \n",
            " 56  purpose_house                        396009 non-null  uint8  \n",
            " 57  purpose_major_purchase               396009 non-null  uint8  \n",
            " 58  purpose_medical                      396009 non-null  uint8  \n",
            " 59  purpose_moving                       396009 non-null  uint8  \n",
            " 60  purpose_other                        396009 non-null  uint8  \n",
            " 61  purpose_renewable_energy             396009 non-null  uint8  \n",
            " 62  purpose_small_business               396009 non-null  uint8  \n",
            " 63  purpose_vacation                     396009 non-null  uint8  \n",
            " 64  purpose_wedding                      396009 non-null  uint8  \n",
            " 65  initial_list_status_f                396009 non-null  uint8  \n",
            " 66  initial_list_status_w                396009 non-null  uint8  \n",
            "dtypes: float64(22), int64(3), uint8(42)\n",
            "memory usage: 94.4 MB\n"
          ]
        }
      ]
    },
    {
      "cell_type": "code",
      "source": [
        "df2 = df1.astype('float')\n",
        "\n",
        "scaler = StandardScaler(copy=False)\n",
        "scaler.fit_transform(df2)\n",
        "\n",
        "X = df2.drop(columns=['total_rev_hi_lim']).values\n",
        "y = df2['total_rev_hi_lim'].values\n",
        "\n",
        "X_train, X_test, y_train, y_test = train_test_split(X, y, test_size=0.3, random_state=0)"
      ],
      "metadata": {
        "id": "NK242Zr1wXVG"
      },
      "execution_count": 20,
      "outputs": []
    },
    {
      "cell_type": "markdown",
      "source": [
        "# DNN Model"
      ],
      "metadata": {
        "id": "ipjlP64hKHXe"
      }
    },
    {
      "cell_type": "code",
      "source": [
        "model = tf.keras.models.Sequential([\n",
        "    tf.keras.layers.Dense(64, input_shape=(66,), activation='relu'),\n",
        "    tf.keras.layers.Dropout(0.25),\n",
        "    tf.keras.layers.Dense(64, activation='relu'),\n",
        "    tf.keras.layers.Dropout(0.25),\n",
        "    tf.keras.layers.Dense(32, activation='relu'),\n",
        "    tf.keras.layers.Dropout(0.25),\n",
        "    tf.keras.layers.Dense(1)\n",
        "])"
      ],
      "metadata": {
        "id": "FmJz5RnJ2dee"
      },
      "execution_count": 21,
      "outputs": []
    },
    {
      "cell_type": "code",
      "source": [
        "model.compile(\n",
        "    loss='mean_squared_error',\n",
        "    optimizer=tf.keras.optimizers.Adam(0.001)\n",
        ")\n",
        "\n",
        "model.summary()"
      ],
      "metadata": {
        "colab": {
          "base_uri": "https://localhost:8080/"
        },
        "id": "TgcVxCwxAXUp",
        "outputId": "d3decac1-5aff-4eb5-8572-b2930ae6e89e"
      },
      "execution_count": 22,
      "outputs": [
        {
          "output_type": "stream",
          "name": "stdout",
          "text": [
            "Model: \"sequential\"\n",
            "_________________________________________________________________\n",
            " Layer (type)                Output Shape              Param #   \n",
            "=================================================================\n",
            " dense (Dense)               (None, 64)                4288      \n",
            "                                                                 \n",
            " dropout (Dropout)           (None, 64)                0         \n",
            "                                                                 \n",
            " dense_1 (Dense)             (None, 64)                4160      \n",
            "                                                                 \n",
            " dropout_1 (Dropout)         (None, 64)                0         \n",
            "                                                                 \n",
            " dense_2 (Dense)             (None, 32)                2080      \n",
            "                                                                 \n",
            " dropout_2 (Dropout)         (None, 32)                0         \n",
            "                                                                 \n",
            " dense_3 (Dense)             (None, 1)                 33        \n",
            "                                                                 \n",
            "=================================================================\n",
            "Total params: 10,561\n",
            "Trainable params: 10,561\n",
            "Non-trainable params: 0\n",
            "_________________________________________________________________\n"
          ]
        }
      ]
    },
    {
      "cell_type": "markdown",
      "source": [
        "# Training dan Evaluasi Model"
      ],
      "metadata": {
        "id": "qcnudDALKbK4"
      }
    },
    {
      "cell_type": "code",
      "source": [
        "history = model.fit(X_train, y_train, epochs=50, validation_data=(X_test, y_test), verbose=1)"
      ],
      "metadata": {
        "colab": {
          "base_uri": "https://localhost:8080/"
        },
        "id": "KFH6k4RHCjph",
        "outputId": "26a7d8cf-cb0b-42a6-d0c7-2fd7a4664ff2"
      },
      "execution_count": 23,
      "outputs": [
        {
          "output_type": "stream",
          "name": "stdout",
          "text": [
            "Epoch 1/50\n",
            "8663/8663 [==============================] - 31s 3ms/step - loss: 0.4404 - val_loss: 0.1492\n",
            "Epoch 2/50\n",
            "8663/8663 [==============================] - 28s 3ms/step - loss: 0.3648 - val_loss: 0.1074\n",
            "Epoch 3/50\n",
            "8663/8663 [==============================] - 27s 3ms/step - loss: 0.3513 - val_loss: 0.1851\n",
            "Epoch 4/50\n",
            "8663/8663 [==============================] - 27s 3ms/step - loss: 0.3801 - val_loss: 0.2150\n",
            "Epoch 5/50\n",
            "8663/8663 [==============================] - 28s 3ms/step - loss: 0.3322 - val_loss: 0.3557\n",
            "Epoch 6/50\n",
            "8663/8663 [==============================] - 27s 3ms/step - loss: 0.4121 - val_loss: 0.5137\n",
            "Epoch 7/50\n",
            "8663/8663 [==============================] - 27s 3ms/step - loss: 0.2730 - val_loss: 1.2757\n",
            "Epoch 8/50\n",
            "8663/8663 [==============================] - 26s 3ms/step - loss: 0.3370 - val_loss: 0.2095\n",
            "Epoch 9/50\n",
            "8663/8663 [==============================] - 27s 3ms/step - loss: 0.3303 - val_loss: 0.3580\n",
            "Epoch 10/50\n",
            "8663/8663 [==============================] - 28s 3ms/step - loss: 0.2958 - val_loss: 0.3167\n",
            "Epoch 11/50\n",
            "8663/8663 [==============================] - 56s 6ms/step - loss: 0.3733 - val_loss: 0.1193\n",
            "Epoch 12/50\n",
            "8663/8663 [==============================] - 33s 4ms/step - loss: 0.2603 - val_loss: 0.1596\n",
            "Epoch 13/50\n",
            "8663/8663 [==============================] - 32s 4ms/step - loss: 0.3586 - val_loss: 0.3882\n",
            "Epoch 14/50\n",
            "8663/8663 [==============================] - 27s 3ms/step - loss: 0.3246 - val_loss: 0.0551\n",
            "Epoch 15/50\n",
            "8663/8663 [==============================] - 27s 3ms/step - loss: 0.2629 - val_loss: 0.0901\n",
            "Epoch 16/50\n",
            "8663/8663 [==============================] - 28s 3ms/step - loss: 0.3743 - val_loss: 0.0657\n",
            "Epoch 17/50\n",
            "8663/8663 [==============================] - 27s 3ms/step - loss: 0.4180 - val_loss: 0.0713\n",
            "Epoch 18/50\n",
            "8663/8663 [==============================] - 28s 3ms/step - loss: 0.2937 - val_loss: 0.0598\n",
            "Epoch 19/50\n",
            "8663/8663 [==============================] - 26s 3ms/step - loss: 0.3317 - val_loss: 0.0699\n",
            "Epoch 20/50\n",
            "8663/8663 [==============================] - 29s 3ms/step - loss: 0.2476 - val_loss: 0.0721\n",
            "Epoch 21/50\n",
            "8663/8663 [==============================] - 33s 4ms/step - loss: 0.1865 - val_loss: 0.0734\n",
            "Epoch 22/50\n",
            "8663/8663 [==============================] - 26s 3ms/step - loss: 0.1778 - val_loss: 0.0641\n",
            "Epoch 23/50\n",
            "8663/8663 [==============================] - 27s 3ms/step - loss: 0.3738 - val_loss: 0.0628\n",
            "Epoch 24/50\n",
            "8663/8663 [==============================] - 26s 3ms/step - loss: 0.4067 - val_loss: 0.0676\n",
            "Epoch 25/50\n",
            "8663/8663 [==============================] - 27s 3ms/step - loss: 0.3819 - val_loss: 0.0651\n",
            "Epoch 26/50\n",
            "8663/8663 [==============================] - 26s 3ms/step - loss: 0.2629 - val_loss: 0.0733\n",
            "Epoch 27/50\n",
            "8663/8663 [==============================] - 26s 3ms/step - loss: 0.3722 - val_loss: 0.0605\n",
            "Epoch 28/50\n",
            "8663/8663 [==============================] - 31s 4ms/step - loss: 0.2570 - val_loss: 0.0687\n",
            "Epoch 29/50\n",
            "8663/8663 [==============================] - 27s 3ms/step - loss: 0.3159 - val_loss: 0.0654\n",
            "Epoch 30/50\n",
            "8663/8663 [==============================] - 26s 3ms/step - loss: 0.2512 - val_loss: 0.0629\n",
            "Epoch 31/50\n",
            "8663/8663 [==============================] - 26s 3ms/step - loss: 0.4012 - val_loss: 0.0657\n",
            "Epoch 32/50\n",
            "8663/8663 [==============================] - 27s 3ms/step - loss: 0.3275 - val_loss: 0.0705\n",
            "Epoch 33/50\n",
            "8663/8663 [==============================] - 26s 3ms/step - loss: 0.3210 - val_loss: 0.0716\n",
            "Epoch 34/50\n",
            "8663/8663 [==============================] - 26s 3ms/step - loss: 0.4618 - val_loss: 0.0774\n",
            "Epoch 35/50\n",
            "8663/8663 [==============================] - 32s 4ms/step - loss: 0.3225 - val_loss: 0.0612\n",
            "Epoch 36/50\n",
            "8663/8663 [==============================] - 26s 3ms/step - loss: 0.3346 - val_loss: 0.0634\n",
            "Epoch 37/50\n",
            "8663/8663 [==============================] - 28s 3ms/step - loss: 0.1990 - val_loss: 0.0639\n",
            "Epoch 38/50\n",
            "8663/8663 [==============================] - 26s 3ms/step - loss: 0.2963 - val_loss: 0.0845\n",
            "Epoch 39/50\n",
            "8663/8663 [==============================] - 26s 3ms/step - loss: 0.3073 - val_loss: 0.0666\n",
            "Epoch 40/50\n",
            "8663/8663 [==============================] - 26s 3ms/step - loss: 0.4085 - val_loss: 0.0624\n",
            "Epoch 41/50\n",
            "8663/8663 [==============================] - 26s 3ms/step - loss: 0.2708 - val_loss: 0.0621\n",
            "Epoch 42/50\n",
            "8663/8663 [==============================] - 31s 4ms/step - loss: 0.1503 - val_loss: 0.0575\n",
            "Epoch 43/50\n",
            "8663/8663 [==============================] - 32s 4ms/step - loss: 0.2175 - val_loss: 0.0651\n",
            "Epoch 44/50\n",
            "8663/8663 [==============================] - 38s 4ms/step - loss: 0.2859 - val_loss: 0.0641\n",
            "Epoch 45/50\n",
            "8663/8663 [==============================] - 26s 3ms/step - loss: 0.3071 - val_loss: 0.0706\n",
            "Epoch 46/50\n",
            "8663/8663 [==============================] - 27s 3ms/step - loss: 0.2748 - val_loss: 0.0714\n",
            "Epoch 47/50\n",
            "8663/8663 [==============================] - 28s 3ms/step - loss: 0.1818 - val_loss: 0.0582\n",
            "Epoch 48/50\n",
            "8663/8663 [==============================] - 26s 3ms/step - loss: 0.3460 - val_loss: 0.0596\n",
            "Epoch 49/50\n",
            "8663/8663 [==============================] - 26s 3ms/step - loss: 0.3438 - val_loss: 0.0563\n",
            "Epoch 50/50\n",
            "8663/8663 [==============================] - 26s 3ms/step - loss: 0.2120 - val_loss: 0.0618\n"
          ]
        }
      ]
    },
    {
      "cell_type": "code",
      "source": [
        "import matplotlib.pyplot as plt\n",
        "\n",
        "plt.plot(history.history['loss'])\n",
        "plt.plot(history.history['val_loss'])\n",
        "plt.title('Model MSE Loss')\n",
        "plt.ylabel('Loss')\n",
        "plt.xlabel('Epoch')\n",
        "plt.legend(['Train', 'Validation'], loc='upper right')\n",
        "plt.tight_layout()\n",
        "plt.show()"
      ],
      "metadata": {
        "id": "VragPzmOFaMZ",
        "colab": {
          "base_uri": "https://localhost:8080/",
          "height": 297
        },
        "outputId": "86b3945d-e202-4ff6-92c7-303d989a0984"
      },
      "execution_count": 25,
      "outputs": [
        {
          "output_type": "display_data",
          "data": {
            "text/plain": [
              "<Figure size 432x288 with 1 Axes>"
            ],
            "image/png": "[encoded data removed]"
          },
          "metadata": {
            "needs_background": "light"
          }
        }
      ]
    },
    {
      "cell_type": "code",
      "source": [
        "model.save(r'/content/drive/MyDrive/ML Model/idx_partners_intern_project.h5')"
      ],
      "metadata": {
        "id": "cNzE-HTPVRhf"
      },
      "execution_count": 26,
      "outputs": []
    },
    {
      "cell_type": "markdown",
      "source": [
        "# Korelasi antar variabel numerik"
      ],
      "metadata": {
        "id": "5zg3GgPHa4vC"
      }
    },
    {
      "cell_type": "code",
      "source": [
        "import seaborn as sns\n",
        "%matplotlib inline\n",
        "\n",
        "correlation = df_numerical.corr(method='pearson')\n",
        "fig, ax = plt.subplots(figsize=(12, 10))\n",
        "sns.heatmap(correlation, cmap=\"YlGnBu\", xticklabels=True, yticklabels=True, annot=False)\n",
        "plt.savefig(r'/content/drive/MyDrive/ML Model/corr_matrix_idx_project.png', dpi=300, bbox_inches='tight')"
      ],
      "metadata": {
        "colab": {
          "base_uri": "https://localhost:8080/",
          "height": 732
        },
        "id": "Wy4ZNzneYseC",
        "outputId": "c976e4ec-4120-4ae5-d0a8-1605880c2d79"
      },
      "execution_count": 38,
      "outputs": [
        {
          "output_type": "display_data",
          "data": {
            "text/plain": [
              "<Figure size 864x720 with 2 Axes>"
            ],
            "image/png": "[encoded data removed]"
          },
          "metadata": {
            "needs_background": "light"
          }
        }
      ]
    }
  ]
}